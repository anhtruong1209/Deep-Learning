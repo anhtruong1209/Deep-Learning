{
 "cells": [
  {
   "cell_type": "code",
   "execution_count": 1,
   "id": "03ebd06d",
   "metadata": {},
   "outputs": [],
   "source": [
    "import torch\n",
    "import torch.nn as nn\n",
    "    "
   ]
  },
  {
   "cell_type": "code",
   "execution_count": 2,
   "id": "5b3499a3",
   "metadata": {},
   "outputs": [],
   "source": [
    "net = nn.Sequential()\n"
   ]
  },
  {
   "cell_type": "code",
   "execution_count": 3,
   "id": "b8b65ca8",
   "metadata": {},
   "outputs": [],
   "source": [
    "class Flatten(nn.Module):#duoi tat ca phan tu ra \n",
    "    def forward(self,x): # x = (10,3,32,32)  -> (10,3*32*32)\n",
    "        size = x.size()[1:]\n",
    "        num_features =1\n",
    "        for s in size:\n",
    "            num_features = num_features * s\n",
    "        return x.view(-1,num_features) "
   ]
  },
  {
   "cell_type": "code",
   "execution_count": 4,
   "id": "6d381318",
   "metadata": {},
   "outputs": [],
   "source": [
    "net.add_module(\"Conv1\",nn.Conv2d(1 ,6 ,3))\n",
    "net.add_module(\"ReLU\",nn.ReLU())\n",
    "net.add_module(\"Maxpooling1\",nn.MaxPool2d(2))\n",
    "\n",
    "net.add_module(\"Conv2\",nn.Conv2d(6 ,16 ,3))\n",
    "net.add_module(\"ReLU2\",nn.ReLU())\n",
    "net.add_module(\"Maxpooling2\",nn.MaxPool2d(2))\n",
    "net.add_module(\"Flatten\",Flatten())\n",
    "\n",
    "net.add_module(\"Fc1\",nn.Linear(16*6*6,120))\n",
    "net.add_module(\"Fc2\",nn.Linear(120,84))\n",
    "net.add_module(\"Fc3\",nn.Linear(84,10))"
   ]
  },
  {
   "cell_type": "code",
   "execution_count": 5,
   "id": "a923eaec",
   "metadata": {},
   "outputs": [
    {
     "name": "stdout",
     "output_type": "stream",
     "text": [
      "Sequential(\n",
      "  (Conv1): Conv2d(1, 6, kernel_size=(3, 3), stride=(1, 1))\n",
      "  (ReLU): ReLU()\n",
      "  (Maxpooling1): MaxPool2d(kernel_size=2, stride=2, padding=0, dilation=1, ceil_mode=False)\n",
      "  (Conv2): Conv2d(6, 16, kernel_size=(3, 3), stride=(1, 1))\n",
      "  (ReLU2): ReLU()\n",
      "  (Maxpooling2): MaxPool2d(kernel_size=2, stride=2, padding=0, dilation=1, ceil_mode=False)\n",
      "  (Flatten): Flatten()\n",
      "  (Fc1): Linear(in_features=576, out_features=120, bias=True)\n",
      "  (Fc2): Linear(in_features=120, out_features=84, bias=True)\n",
      "  (Fc3): Linear(in_features=84, out_features=10, bias=True)\n",
      ")\n"
     ]
    }
   ],
   "source": [
    "print(net)"
   ]
  },
  {
   "cell_type": "code",
   "execution_count": 6,
   "id": "c990a963",
   "metadata": {},
   "outputs": [],
   "source": [
    "input_img = torch.rand(1,1,32,32)"
   ]
  },
  {
   "cell_type": "code",
   "execution_count": 7,
   "id": "1b57a443",
   "metadata": {},
   "outputs": [],
   "source": [
    "output = net(input_img)"
   ]
  },
  {
   "cell_type": "code",
   "execution_count": 8,
   "id": "3e1c0d52",
   "metadata": {},
   "outputs": [
    {
     "name": "stdout",
     "output_type": "stream",
     "text": [
      "torch.Size([1, 10])\n"
     ]
    }
   ],
   "source": [
    "print(output.shape)"
   ]
  },
  {
   "cell_type": "code",
   "execution_count": null,
   "id": "f84377c6",
   "metadata": {},
   "outputs": [],
   "source": []
  }
 ],
 "metadata": {
  "kernelspec": {
   "display_name": "Python 3",
   "language": "python",
   "name": "python3"
  },
  "language_info": {
   "codemirror_mode": {
    "name": "ipython",
    "version": 3
   },
   "file_extension": ".py",
   "mimetype": "text/x-python",
   "name": "python",
   "nbconvert_exporter": "python",
   "pygments_lexer": "ipython3",
   "version": "3.8.10"
  }
 },
 "nbformat": 4,
 "nbformat_minor": 5
}
