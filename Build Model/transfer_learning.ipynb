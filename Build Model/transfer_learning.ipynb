{
 "metadata": {
  "language_info": {
   "codemirror_mode": {
    "name": "ipython",
    "version": 3
   },
   "file_extension": ".py",
   "mimetype": "text/x-python",
   "name": "python",
   "nbconvert_exporter": "python",
   "pygments_lexer": "ipython3",
   "version": "3.8.10"
  },
  "orig_nbformat": 2,
  "kernelspec": {
   "name": "python3810jvsc74a57bd0f62f8fca829e63db7165d38917f232c787b7a8a4e3bdbde56ea9d61107cf7522",
   "display_name": "Python 3.8.10 64-bit ('torch': conda)"
  },
  "metadata": {
   "interpreter": {
    "hash": "f62f8fca829e63db7165d38917f232c787b7a8a4e3bdbde56ea9d61107cf7522"
   }
  }
 },
 "nbformat": 4,
 "nbformat_minor": 2,
 "cells": [
  {
   "cell_type": "code",
   "execution_count": 15,
   "metadata": {},
   "outputs": [],
   "source": [
    "import os \n",
    "import zipfile\n",
    "import torch\n",
    "import urllib.request\n",
    "data_dir = \"./data\""
   ]
  },
  {
   "cell_type": "code",
   "execution_count": 16,
   "metadata": {},
   "outputs": [],
   "source": [
    "url = \"https://download.pytorch.org/tutorial/hymenoptera_data.zip\"\n",
    "# save path\n",
    "save_path = os.path.join(data_dir, \"hymenoptera_data.zip\")\n",
    "\n",
    "# download  and save savepath name hymenoptera_data.zip\n",
    "if not os.path.exists(save_path):\n",
    "    urllib.request.urlretrieve(url, save_path)\n",
    "\n",
    "    # read by zipfile\n",
    "    zip = zipfile.ZipFile(save_path)\n",
    "    # extract\n",
    "    zip.extractall(data_dir)\n",
    "    zip.close()\n",
    "\n",
    "    os.remove(save_path)\n"
   ]
  },
  {
   "cell_type": "code",
   "execution_count": null,
   "metadata": {},
   "outputs": [],
   "source": []
  }
 ]
}