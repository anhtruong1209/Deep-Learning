{
 "cells": [
  {
   "cell_type": "code",
   "execution_count": 2,
   "id": "84c045cd",
   "metadata": {},
   "outputs": [],
   "source": [
    "import torch\n",
    "import torch.nn as nn \n",
    "import torch.nn.functional as F\n"
   ]
  },
  {
   "cell_type": "code",
   "execution_count": 3,
   "id": "e49082ac",
   "metadata": {},
   "outputs": [],
   "source": [
    "class Net(nn.Module):\n",
    "    def __init__(self):\n",
    "        super(Net,self).__init__() #goi ham khoi tao cua class nn.Module\n",
    "        self.conv1 = nn.Conv2d(1,6,3) #input_ch output_cd, stride\n",
    "        self.conv2 = nn.Conv2d(6,16,3) # sang tiep tu 6 -> 16 channel\n",
    "        self.fc1 = nn.Linear(16*6*6,120) # \n",
    "        self.fc2 = nn.Linear(120,84)\n",
    "        self.fc3 = nn.Linear(84,10)\n",
    "        #tong cong 5 layer\n",
    "    #kernel : w *h    \n",
    "    # relu : =x if x >=0 \n",
    "    #       =0 if x<0\n",
    "    def forward(self,x):\n",
    "        x = self.conv1(x) #tich chap\n",
    "        x = F.relu(x)\n",
    "        x = F.max_pool2d(x, (2,2))\n",
    "        \n",
    "        x = self.conv2(x) #tich chap\n",
    "        x = F.relu(x)\n",
    "        x = F.max_pool2d(x, (2,2))\n",
    "        \n",
    "        x = x.view(-1,self.num_flat_features(x)) # dua ve 1 chieu\n",
    "        \n",
    "        #connect cac fc vao voi nhau\n",
    "        x = F.relu(self.fc1(x)) # 120 ch\n",
    "        x = F.relu(self.fc2(x)) # 84 ch\n",
    "        x = F.relu(self.fc3(x)) # 10 channel\n",
    "        \n",
    "        return x\n",
    "        \n",
    "    def num_flat_features(self,x):\n",
    "        size = x.shape[1:]\n",
    "        num_features = 1\n",
    "        for s in size:\n",
    "            num_features *= s\n",
    "            print(num_features)\n",
    "        return num_features    \n"
   ]
  },
  {
   "cell_type": "code",
   "execution_count": 4,
   "id": "7de8ff4d",
   "metadata": {
    "scrolled": true
   },
   "outputs": [
    {
     "output_type": "stream",
     "name": "stdout",
     "text": [
      "Net(\n  (conv1): Conv2d(1, 6, kernel_size=(3, 3), stride=(1, 1))\n  (conv2): Conv2d(6, 16, kernel_size=(3, 3), stride=(1, 1))\n  (fc1): Linear(in_features=576, out_features=120, bias=True)\n  (fc2): Linear(in_features=120, out_features=84, bias=True)\n  (fc3): Linear(in_features=84, out_features=10, bias=True)\n)\n"
     ]
    }
   ],
   "source": [
    "net = Net()\n",
    "print(net)"
   ]
  },
  {
   "cell_type": "code",
   "execution_count": 5,
   "id": "edc05815",
   "metadata": {},
   "outputs": [],
   "source": [
    "input_image = torch.rand(1,1,32,32)"
   ]
  },
  {
   "cell_type": "code",
   "execution_count": 6,
   "id": "042ca05c",
   "metadata": {},
   "outputs": [
    {
     "output_type": "execute_result",
     "data": {
      "text/plain": [
       "torch.Size([1, 1, 32, 32])"
      ]
     },
     "metadata": {},
     "execution_count": 6
    }
   ],
   "source": [
    "input_image.shape"
   ]
  },
  {
   "cell_type": "code",
   "execution_count": 7,
   "id": "473b9a29",
   "metadata": {},
   "outputs": [
    {
     "output_type": "stream",
     "name": "stdout",
     "text": [
      "16\n96\n576\n"
     ]
    }
   ],
   "source": [
    "\n",
    "output_image = net(input_image)"
   ]
  },
  {
   "cell_type": "code",
   "execution_count": null,
   "id": "812ade86",
   "metadata": {},
   "outputs": [],
   "source": []
  },
  {
   "cell_type": "code",
   "execution_count": 8,
   "id": "4a346c3e",
   "metadata": {},
   "outputs": [
    {
     "output_type": "execute_result",
     "data": {
      "text/plain": [
       "torch.Size([1, 10])"
      ]
     },
     "metadata": {},
     "execution_count": 8
    }
   ],
   "source": [
    "output_image.shape"
   ]
  },
  {
   "cell_type": "code",
   "execution_count": null,
   "id": "ffa0b325",
   "metadata": {},
   "outputs": [],
   "source": []
  }
 ],
 "metadata": {
  "kernelspec": {
   "display_name": "Python 3.8 (pytorch)",
   "language": "python",
   "name": "pytorch"
  }
 },
 "nbformat": 4,
 "nbformat_minor": 5
}