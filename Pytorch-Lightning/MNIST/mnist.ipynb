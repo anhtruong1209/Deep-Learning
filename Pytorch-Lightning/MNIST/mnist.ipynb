{
 "cells": [
  {
   "cell_type": "code",
   "execution_count": 31,
   "source": [
    "import torch\n",
    "from pytorch_lightning import LightningModule, Trainer,LightningDataModule\n",
    "from pytorch_lightning.metrics.functional import accuracy, confusion_matrix\n",
    "from torch import nn\n",
    "from torch.nn import functional as F\n",
    "from torch.utils.data import DataLoader, random_split\n",
    "from torchvision import transforms\n",
    "from torchvision.datasets import MNIST\n",
    "import os\n",
    "from datetime import datetime\n",
    "from pl_bolts.callbacks import PrintTableMetricsCallback\n",
    "\n",
    "PATH_DATASETS = os.environ.get('PATH_DATASETS', '.')\n",
    "AVAIL_GPUS = min(1, torch.cuda.device_count())\n",
    "BATCH_SIZE = 256 if AVAIL_GPUS else 64"
   ],
   "outputs": [],
   "metadata": {}
  },
  {
   "cell_type": "code",
   "execution_count": 32,
   "source": [
    "class LitMNIST(LightningModule):\n",
    "\n",
    "    def __init__(self, channels, width, height, num_classes, hidden_size=64, learning_rate=2e-4):\n",
    "\n",
    "        super().__init__()\n",
    "\n",
    "        # We take in input dimensions as parameters and use those to dynamically build model.\n",
    "        self.channels = channels\n",
    "        self.width = width\n",
    "        self.height = height\n",
    "        self.num_classes = num_classes\n",
    "        self.hidden_size = hidden_size\n",
    "        self.learning_rate = learning_rate\n",
    "\n",
    "        # Define PyTorch model\n",
    "        self.model = nn.Sequential(\n",
    "            nn.Flatten(),\n",
    "            nn.Linear(channels * width * height, hidden_size),\n",
    "            nn.ReLU(),\n",
    "            nn.Dropout(0.1),\n",
    "            nn.Linear(hidden_size, hidden_size),\n",
    "            nn.ReLU(),\n",
    "            nn.Dropout(0.1),\n",
    "            nn.Linear(hidden_size, self.num_classes),\n",
    "        )\n",
    "\n",
    "    def forward(self, x):\n",
    "        x = self.model(x)\n",
    "        return F.log_softmax(x, dim=1)\n",
    "\n",
    "    def training_step(self, batch, batch_idx):\n",
    "        x, y = batch\n",
    "        logits = self(x)\n",
    "        loss = F.nll_loss(logits, y)\n",
    "        return loss\n",
    "\n",
    "    def validation_step(self, batch, batch_idx):\n",
    "        x, y = batch\n",
    "        logits = self(x)\n",
    "        loss = F.nll_loss(logits, y)\n",
    "        preds = torch.argmax(logits, dim=1)\n",
    "        acc = accuracy(preds, y)\n",
    "\n",
    "        # Calling self.log will surface up scalars for you in TensorBoard\n",
    "        self.log('val_loss', loss, prog_bar=True)\n",
    "        self.log('val_acc', acc, prog_bar=True)\n",
    "        return loss\n",
    "\n",
    "    def test_step(self, batch, batch_idx):\n",
    "        # Here we just reuse the validation_step for testing\n",
    "        return self.validation_step(batch, batch_idx)\n",
    "\n",
    "    def configure_optimizers(self):\n",
    "        optimizer = torch.optim.Adam(self.parameters(), lr=self.learning_rate)\n",
    "        return optimizer\n",
    "\n"
   ],
   "outputs": [],
   "metadata": {
    "pycharm": {
     "name": "#%%\n"
    }
   }
  },
  {
   "cell_type": "code",
   "execution_count": 33,
   "source": [
    "class MNISTDataModule(LightningDataModule):\n",
    "\n",
    "    def __init__(self, data_dir, str = PATH_DATASETS):\n",
    "        super().__init__()\n",
    "        self.data_dir = data_dir\n",
    "        self.transform = transforms.Compose([\n",
    "            transforms.ToTensor(),\n",
    "            transforms.Normalize((0.1307, ), (0.3081, )),\n",
    "        ])\n",
    "        # self.dims is returned when you call dm.size()\n",
    "        # Setting default dims here because we know them.\n",
    "        # Could optionally be assigned dynamically in dm.setup()\n",
    "        self.dims = (1, 28, 28)\n",
    "        self.num_classes = 10\n",
    "    def prepare_data(self):\n",
    "        # download\n",
    "        MNIST(self.data_dir, train=True, download=True)\n",
    "        MNIST(self.data_dir, train=False, download=True)\n",
    "\n",
    "    def setup(self, stage=None):\n",
    "\n",
    "        # Assign train/val datasets for use in dataloaders\n",
    "        if stage == 'fit' or stage is None:\n",
    "            mnist_full = MNIST(self.data_dir, train=True, transform=self.transform)\n",
    "            self.mnist_train, self.mnist_val = random_split(mnist_full, [55000, 5000])\n",
    "\n",
    "        # Assign test dataset for use in dataloader(s)\n",
    "        if stage == 'test' or stage is None:\n",
    "            self.mnist_test = MNIST(self.data_dir, train=False, transform=self.transform)\n",
    "\n",
    "    def train_dataloader(self):\n",
    "        return DataLoader(self.mnist_train, batch_size=BATCH_SIZE)\n",
    "\n",
    "    def val_dataloader(self):\n",
    "        return DataLoader(self.mnist_val, batch_size=BATCH_SIZE)\n",
    "\n",
    "    def test_dataloader(self):\n",
    "        return DataLoader(self.mnist_test, batch_size=BATCH_SIZE)"
   ],
   "outputs": [],
   "metadata": {}
  },
  {
   "cell_type": "code",
   "execution_count": 34,
   "source": [
    "# Init DataModule\n",
    "dm = MNISTDataModule('MNIST')\n",
    "# Init model from datamodule's attributes\n",
    "model = LitMNIST(*dm.size(), dm.num_classes)\n",
    "# Init trainer\n",
    "trainer = Trainer(\n",
    "    max_epochs=5,\n",
    "    progress_bar_refresh_rate=20,\n",
    "    gpus=1,\n",
    "    callbacks=[PrintTableMetricsCallback()]\n",
    ")"
   ],
   "outputs": [
    {
     "output_type": "stream",
     "name": "stderr",
     "text": [
      "GPU available: True, used: True\n",
      "TPU available: False, using: 0 TPU cores\n",
      "IPU available: False, using: 0 IPUs\n"
     ]
    }
   ],
   "metadata": {
    "pycharm": {
     "name": "#%%\n"
    }
   }
  },
  {
   "cell_type": "code",
   "execution_count": 35,
   "source": [
    "#Pass the datamodule as arg to trainer.fit\n",
    "start = datetime.now()\n",
    "print('Training started at', start)\n",
    "trainer.fit(model, dm)\n",
    "print('Training duration:', datetime.now() - start)"
   ],
   "outputs": [
    {
     "output_type": "stream",
     "name": "stderr",
     "text": [
      "LOCAL_RANK: 0 - CUDA_VISIBLE_DEVICES: [0]\n",
      "\n",
      "  | Name  | Type       | Params\n",
      "-------------------------------------\n",
      "0 | model | Sequential | 55.1 K\n",
      "-------------------------------------\n",
      "55.1 K    Trainable params\n",
      "0         Non-trainable params\n",
      "55.1 K    Total params\n",
      "0.220     Total estimated model params size (MB)\n"
     ]
    },
    {
     "output_type": "stream",
     "name": "stdout",
     "text": [
      "Training started at 2021-08-08 13:20:58.720823\n"
     ]
    },
    {
     "output_type": "display_data",
     "data": {
      "text/plain": [
       "Validation sanity check: 0it [00:00, ?it/s]"
      ],
      "application/vnd.jupyter.widget-view+json": {
       "version_major": 2,
       "version_minor": 0,
       "model_id": "c252c0d7abd04e658f13188b1ef2ca48"
      }
     },
     "metadata": {}
    },
    {
     "output_type": "stream",
     "name": "stderr",
     "text": [
      "/home/anhtruong1209/miniconda3/envs/torch/lib/python3.9/site-packages/pytorch_lightning/trainer/data_loading.py:105: UserWarning: The dataloader, val dataloader 0, does not have many workers which may be a bottleneck. Consider increasing the value of the `num_workers` argument` (try 12 which is the number of cpus on this machine) in the `DataLoader` init to improve performance.\n",
      "  rank_zero_warn(\n",
      "val_loss│val_acc\n",
      "────────────────\n",
      "2.3002967834472656│0.09375\n",
      "/home/anhtruong1209/miniconda3/envs/torch/lib/python3.9/site-packages/pytorch_lightning/trainer/data_loading.py:105: UserWarning: The dataloader, train dataloader, does not have many workers which may be a bottleneck. Consider increasing the value of the `num_workers` argument` (try 12 which is the number of cpus on this machine) in the `DataLoader` init to improve performance.\n",
      "  rank_zero_warn(\n"
     ]
    },
    {
     "output_type": "display_data",
     "data": {
      "text/plain": [
       "Training: -1it [00:00, ?it/s]"
      ],
      "application/vnd.jupyter.widget-view+json": {
       "version_major": 2,
       "version_minor": 0,
       "model_id": "3d5c1f647cf3404cbf56dc00fdf6be54"
      }
     },
     "metadata": {}
    },
    {
     "output_type": "display_data",
     "data": {
      "text/plain": [
       "Validating: 0it [00:00, ?it/s]"
      ],
      "application/vnd.jupyter.widget-view+json": {
       "version_major": 2,
       "version_minor": 0,
       "model_id": "49cef843531a4cf5bd6601951bc072e4"
      }
     },
     "metadata": {}
    },
    {
     "output_type": "stream",
     "name": "stderr",
     "text": [
      "val_loss│val_acc\n",
      "────────────────\n",
      "2.3002967834472656│0.09375\n",
      "0.42443785071372986│0.885200023651123\n",
      "val_loss│val_acc\n",
      "────────────────\n",
      "2.3002967834472656│0.09375\n",
      "0.42443785071372986│0.885200023651123\n",
      "0.42443785071372986│0.885200023651123\n"
     ]
    },
    {
     "output_type": "display_data",
     "data": {
      "text/plain": [
       "Validating: 0it [00:00, ?it/s]"
      ],
      "application/vnd.jupyter.widget-view+json": {
       "version_major": 2,
       "version_minor": 0,
       "model_id": "e2eaef4cb4d74809ad648e05fe49cc36"
      }
     },
     "metadata": {}
    },
    {
     "output_type": "stream",
     "name": "stderr",
     "text": [
      "val_loss│val_acc\n",
      "────────────────\n",
      "2.3002967834472656│0.09375\n",
      "0.42443785071372986│0.885200023651123\n",
      "0.42443785071372986│0.885200023651123\n",
      "0.30732351541519165│0.9057999849319458\n",
      "val_loss│val_acc\n",
      "────────────────\n",
      "2.3002967834472656│0.09375\n",
      "0.42443785071372986│0.885200023651123\n",
      "0.42443785071372986│0.885200023651123\n",
      "0.30732351541519165│0.9057999849319458\n",
      "0.30732351541519165│0.9057999849319458\n"
     ]
    },
    {
     "output_type": "display_data",
     "data": {
      "text/plain": [
       "Validating: 0it [00:00, ?it/s]"
      ],
      "application/vnd.jupyter.widget-view+json": {
       "version_major": 2,
       "version_minor": 0,
       "model_id": "74818c0202f7476096a62726833c8a7b"
      }
     },
     "metadata": {}
    },
    {
     "output_type": "stream",
     "name": "stderr",
     "text": [
      "val_loss│val_acc\n",
      "────────────────\n",
      "2.3002967834472656│0.09375\n",
      "0.42443785071372986│0.885200023651123\n",
      "0.42443785071372986│0.885200023651123\n",
      "0.30732351541519165│0.9057999849319458\n",
      "0.30732351541519165│0.9057999849319458\n",
      "0.26309934258461│0.9187999963760376\n",
      "val_loss│val_acc\n",
      "────────────────\n",
      "2.3002967834472656│0.09375\n",
      "0.42443785071372986│0.885200023651123\n",
      "0.42443785071372986│0.885200023651123\n",
      "0.30732351541519165│0.9057999849319458\n",
      "0.30732351541519165│0.9057999849319458\n",
      "0.26309934258461│0.9187999963760376\n",
      "0.26309934258461│0.9187999963760376\n"
     ]
    },
    {
     "output_type": "display_data",
     "data": {
      "text/plain": [
       "Validating: 0it [00:00, ?it/s]"
      ],
      "application/vnd.jupyter.widget-view+json": {
       "version_major": 2,
       "version_minor": 0,
       "model_id": "8665131994634216ad1fe656247fbe7e"
      }
     },
     "metadata": {}
    },
    {
     "output_type": "stream",
     "name": "stderr",
     "text": [
      "val_loss│val_acc\n",
      "────────────────\n",
      "2.3002967834472656│0.09375\n",
      "0.42443785071372986│0.885200023651123\n",
      "0.42443785071372986│0.885200023651123\n",
      "0.30732351541519165│0.9057999849319458\n",
      "0.30732351541519165│0.9057999849319458\n",
      "0.26309934258461│0.9187999963760376\n",
      "0.26309934258461│0.9187999963760376\n",
      "0.2321128100156784│0.9291999936103821\n",
      "val_loss│val_acc\n",
      "────────────────\n",
      "2.3002967834472656│0.09375\n",
      "0.42443785071372986│0.885200023651123\n",
      "0.42443785071372986│0.885200023651123\n",
      "0.30732351541519165│0.9057999849319458\n",
      "0.30732351541519165│0.9057999849319458\n",
      "0.26309934258461│0.9187999963760376\n",
      "0.26309934258461│0.9187999963760376\n",
      "0.2321128100156784│0.9291999936103821\n",
      "0.2321128100156784│0.9291999936103821\n"
     ]
    },
    {
     "output_type": "display_data",
     "data": {
      "text/plain": [
       "Validating: 0it [00:00, ?it/s]"
      ],
      "application/vnd.jupyter.widget-view+json": {
       "version_major": 2,
       "version_minor": 0,
       "model_id": "aef041bcec5d4ce08287b92efb6f9cde"
      }
     },
     "metadata": {}
    },
    {
     "output_type": "stream",
     "name": "stderr",
     "text": [
      "val_loss│val_acc\n",
      "────────────────\n",
      "2.3002967834472656│0.09375\n",
      "0.42443785071372986│0.885200023651123\n",
      "0.42443785071372986│0.885200023651123\n",
      "0.30732351541519165│0.9057999849319458\n",
      "0.30732351541519165│0.9057999849319458\n",
      "0.26309934258461│0.9187999963760376\n",
      "0.26309934258461│0.9187999963760376\n",
      "0.2321128100156784│0.9291999936103821\n",
      "0.2321128100156784│0.9291999936103821\n",
      "0.21075111627578735│0.9354000091552734\n",
      "val_loss│val_acc\n",
      "────────────────\n",
      "2.3002967834472656│0.09375\n",
      "0.42443785071372986│0.885200023651123\n",
      "0.42443785071372986│0.885200023651123\n",
      "0.30732351541519165│0.9057999849319458\n",
      "0.30732351541519165│0.9057999849319458\n",
      "0.26309934258461│0.9187999963760376\n",
      "0.26309934258461│0.9187999963760376\n",
      "0.2321128100156784│0.9291999936103821\n",
      "0.2321128100156784│0.9291999936103821\n",
      "0.21075111627578735│0.9354000091552734\n",
      "0.21075111627578735│0.9354000091552734\n"
     ]
    },
    {
     "output_type": "stream",
     "name": "stdout",
     "text": [
      "Training duration: 0:00:33.635890\n"
     ]
    }
   ],
   "metadata": {
    "pycharm": {
     "name": "#%%\n"
    }
   }
  },
  {
   "cell_type": "code",
   "execution_count": 36,
   "source": [
    "# Start tensorboard.\n",
    "%load_ext tensorboard\n",
    "%tensorboard --logdir lightning_logs/"
   ],
   "outputs": [
    {
     "output_type": "stream",
     "name": "stdout",
     "text": [
      "The tensorboard extension is already loaded. To reload it, use:\n",
      "  %reload_ext tensorboard\n"
     ]
    },
    {
     "output_type": "display_data",
     "data": {
      "text/plain": [
       "Launching TensorBoard..."
      ]
     },
     "metadata": {}
    },
    {
     "output_type": "display_data",
     "data": {
      "text/plain": [
       "<IPython.core.display.HTML object>"
      ],
      "text/html": [
       "\n",
       "      <iframe id=\"tensorboard-frame-bb66057aa6c7a82a\" width=\"100%\" height=\"800\" frameborder=\"0\">\n",
       "      </iframe>\n",
       "      <script>\n",
       "        (function() {\n",
       "          const frame = document.getElementById(\"tensorboard-frame-bb66057aa6c7a82a\");\n",
       "          const url = new URL(\"/\", window.location);\n",
       "          const port = 6006;\n",
       "          if (port) {\n",
       "            url.port = port;\n",
       "          }\n",
       "          frame.src = url;\n",
       "        })();\n",
       "      </script>\n",
       "    "
      ]
     },
     "metadata": {}
    }
   ],
   "metadata": {
    "pycharm": {
     "name": "#%%\n"
    }
   }
  }
 ],
 "metadata": {
  "kernelspec": {
   "display_name": "Python 3",
   "language": "python",
   "name": "python3"
  },
  "language_info": {
   "codemirror_mode": {
    "name": "ipython",
    "version": 3
   },
   "file_extension": ".py",
   "mimetype": "text/x-python",
   "name": "python",
   "nbconvert_exporter": "python",
   "pygments_lexer": "ipython3",
   "version": "3.9.6"
  }
 },
 "nbformat": 4,
 "nbformat_minor": 1
}