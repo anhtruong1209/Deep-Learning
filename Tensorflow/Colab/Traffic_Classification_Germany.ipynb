{
  "nbformat": 4,
  "nbformat_minor": 0,
  "metadata": {
    "colab": {
      "name": "Traffic.ipynb",
      "provenance": [],
      "collapsed_sections": [],
      "toc_visible": true,
      "authorship_tag": "ABX9TyOcqCZ94DHEm/2Al0xP5+oq",
      "include_colab_link": true
    },
    "kernelspec": {
      "name": "python3",
      "display_name": "Python 3"
    },
    "language_info": {
      "name": "python"
    },
    "accelerator": "GPU"
  },
  "cells": [
    {
      "cell_type": "markdown",
      "metadata": {
        "id": "view-in-github",
        "colab_type": "text"
      },
      "source": [
        "<a href=\"https://colab.research.google.com/github/anhtruong1209/Deep-Learning/blob/master/Traffic.ipynb\" target=\"_parent\"><img src=\"https://colab.research.google.com/assets/colab-badge.svg\" alt=\"Open In Colab\"/></a>"
      ]
    },
    {
      "cell_type": "code",
      "metadata": {
        "id": "q0Vpv4oadjnU"
      },
      "source": [
        "import tensorflow as tf "
      ],
      "execution_count": null,
      "outputs": []
    },
    {
      "cell_type": "code",
      "metadata": {
        "colab": {
          "base_uri": "https://localhost:8080/",
          "height": 35
        },
        "id": "YVVEUYwJeG5r",
        "outputId": "1e964802-acef-40af-a1e9-b8d0ae943142"
      },
      "source": [
        "tf.__version__"
      ],
      "execution_count": null,
      "outputs": [
        {
          "output_type": "execute_result",
          "data": {
            "application/vnd.google.colaboratory.intrinsic+json": {
              "type": "string"
            },
            "text/plain": [
              "'2.5.0'"
            ]
          },
          "metadata": {
            "tags": []
          },
          "execution_count": 3
        }
      ]
    },
    {
      "cell_type": "code",
      "metadata": {
        "colab": {
          "base_uri": "https://localhost:8080/",
          "height": 735
        },
        "id": "Lux6KKWCl_V5",
        "outputId": "582599ab-6bc0-4eb9-b6a6-8199d8b6db23"
      },
      "source": [
        "!pip install tensorflow-gpu==2.0.rc"
      ],
      "execution_count": null,
      "outputs": [
        {
          "output_type": "stream",
          "text": [
            "Collecting tensorflow-gpu==2.0.rc\n",
            "\u001b[?25l  Downloading https://files.pythonhosted.org/packages/3b/ac/dc53e7ba3163d8c5e1faa78e875672d66e4c874c1fbc06429a388cc51503/tensorflow_gpu-2.0.0rc0-cp37-cp37m-manylinux2010_x86_64.whl (380.5MB)\n",
            "\u001b[K     |████████████████████████████████| 380.5MB 48kB/s \n",
            "\u001b[?25hRequirement already satisfied: numpy<2.0,>=1.16.0 in /usr/local/lib/python3.7/dist-packages (from tensorflow-gpu==2.0.rc) (1.19.5)\n",
            "Requirement already satisfied: google-pasta>=0.1.6 in /usr/local/lib/python3.7/dist-packages (from tensorflow-gpu==2.0.rc) (0.2.0)\n",
            "Requirement already satisfied: protobuf>=3.6.1 in /usr/local/lib/python3.7/dist-packages (from tensorflow-gpu==2.0.rc) (3.12.4)\n",
            "Requirement already satisfied: keras-preprocessing>=1.0.5 in /usr/local/lib/python3.7/dist-packages (from tensorflow-gpu==2.0.rc) (1.1.2)\n",
            "Collecting tf-estimator-nightly<1.14.0.dev2019080602,>=1.14.0.dev2019080601\n",
            "\u001b[?25l  Downloading https://files.pythonhosted.org/packages/21/28/f2a27a62943d5f041e4a6fd404b2d21cb7c59b2242a4e73b03d9ba166552/tf_estimator_nightly-1.14.0.dev2019080601-py2.py3-none-any.whl (501kB)\n",
            "\u001b[K     |████████████████████████████████| 501kB 47.0MB/s \n",
            "\u001b[?25hRequirement already satisfied: grpcio>=1.8.6 in /usr/local/lib/python3.7/dist-packages (from tensorflow-gpu==2.0.rc) (1.34.1)\n",
            "Requirement already satisfied: astor>=0.6.0 in /usr/local/lib/python3.7/dist-packages (from tensorflow-gpu==2.0.rc) (0.8.1)\n",
            "Requirement already satisfied: six>=1.10.0 in /usr/local/lib/python3.7/dist-packages (from tensorflow-gpu==2.0.rc) (1.15.0)\n",
            "Requirement already satisfied: termcolor>=1.1.0 in /usr/local/lib/python3.7/dist-packages (from tensorflow-gpu==2.0.rc) (1.1.0)\n",
            "Requirement already satisfied: absl-py>=0.7.0 in /usr/local/lib/python3.7/dist-packages (from tensorflow-gpu==2.0.rc) (0.12.0)\n",
            "Collecting keras-applications>=1.0.8\n",
            "\u001b[?25l  Downloading https://files.pythonhosted.org/packages/71/e3/19762fdfc62877ae9102edf6342d71b28fbfd9dea3d2f96a882ce099b03f/Keras_Applications-1.0.8-py3-none-any.whl (50kB)\n",
            "\u001b[K     |████████████████████████████████| 51kB 7.7MB/s \n",
            "\u001b[?25hRequirement already satisfied: opt-einsum>=2.3.2 in /usr/local/lib/python3.7/dist-packages (from tensorflow-gpu==2.0.rc) (3.3.0)\n",
            "Requirement already satisfied: wrapt>=1.11.1 in /usr/local/lib/python3.7/dist-packages (from tensorflow-gpu==2.0.rc) (1.12.1)\n",
            "Requirement already satisfied: wheel>=0.26 in /usr/local/lib/python3.7/dist-packages (from tensorflow-gpu==2.0.rc) (0.36.2)\n",
            "Collecting tb-nightly<1.15.0a20190807,>=1.15.0a20190806\n",
            "\u001b[?25l  Downloading https://files.pythonhosted.org/packages/bc/88/24b5fb7280e74c7cf65bde47c171547fd02afb3840cff41bcbe9270650f5/tb_nightly-1.15.0a20190806-py3-none-any.whl (4.3MB)\n",
            "\u001b[K     |████████████████████████████████| 4.3MB 42.4MB/s \n",
            "\u001b[?25hRequirement already satisfied: gast>=0.2.0 in /usr/local/lib/python3.7/dist-packages (from tensorflow-gpu==2.0.rc) (0.4.0)\n",
            "Requirement already satisfied: setuptools in /usr/local/lib/python3.7/dist-packages (from protobuf>=3.6.1->tensorflow-gpu==2.0.rc) (57.0.0)\n",
            "Requirement already satisfied: h5py in /usr/local/lib/python3.7/dist-packages (from keras-applications>=1.0.8->tensorflow-gpu==2.0.rc) (3.1.0)\n",
            "Requirement already satisfied: markdown>=2.6.8 in /usr/local/lib/python3.7/dist-packages (from tb-nightly<1.15.0a20190807,>=1.15.0a20190806->tensorflow-gpu==2.0.rc) (3.3.4)\n",
            "Requirement already satisfied: werkzeug>=0.11.15 in /usr/local/lib/python3.7/dist-packages (from tb-nightly<1.15.0a20190807,>=1.15.0a20190806->tensorflow-gpu==2.0.rc) (1.0.1)\n",
            "Requirement already satisfied: cached-property; python_version < \"3.8\" in /usr/local/lib/python3.7/dist-packages (from h5py->keras-applications>=1.0.8->tensorflow-gpu==2.0.rc) (1.5.2)\n",
            "Requirement already satisfied: importlib-metadata; python_version < \"3.8\" in /usr/local/lib/python3.7/dist-packages (from markdown>=2.6.8->tb-nightly<1.15.0a20190807,>=1.15.0a20190806->tensorflow-gpu==2.0.rc) (4.0.1)\n",
            "Requirement already satisfied: typing-extensions>=3.6.4; python_version < \"3.8\" in /usr/local/lib/python3.7/dist-packages (from importlib-metadata; python_version < \"3.8\"->markdown>=2.6.8->tb-nightly<1.15.0a20190807,>=1.15.0a20190806->tensorflow-gpu==2.0.rc) (3.7.4.3)\n",
            "Requirement already satisfied: zipp>=0.5 in /usr/local/lib/python3.7/dist-packages (from importlib-metadata; python_version < \"3.8\"->markdown>=2.6.8->tb-nightly<1.15.0a20190807,>=1.15.0a20190806->tensorflow-gpu==2.0.rc) (3.4.1)\n",
            "Installing collected packages: tf-estimator-nightly, keras-applications, tb-nightly, tensorflow-gpu\n",
            "Successfully installed keras-applications-1.0.8 tb-nightly-1.15.0a20190806 tensorflow-gpu-2.0.0rc0 tf-estimator-nightly-1.14.0.dev2019080601\n"
          ],
          "name": "stdout"
        },
        {
          "output_type": "display_data",
          "data": {
            "application/vnd.colab-display-data+json": {
              "pip_warning": {
                "packages": [
                  "tensorboard",
                  "tensorflow"
                ]
              }
            }
          },
          "metadata": {
            "tags": []
          }
        }
      ]
    },
    {
      "cell_type": "code",
      "metadata": {
        "colab": {
          "base_uri": "https://localhost:8080/"
        },
        "id": "PE1asBbIeK_0",
        "outputId": "4eeaff9f-4109-40ae-85ff-a7077a6b1a46"
      },
      "source": [
        "from google.colab import drive\n",
        "drive.mount(\"/content/drive\")"
      ],
      "execution_count": null,
      "outputs": [
        {
          "output_type": "stream",
          "text": [
            "Mounted at /content/drive\n"
          ],
          "name": "stdout"
        }
      ]
    },
    {
      "cell_type": "code",
      "metadata": {
        "colab": {
          "base_uri": "https://localhost:8080/",
          "height": 35
        },
        "id": "fEolSDeEeWre",
        "outputId": "511d2b0e-a37f-4ceb-c9be-44c5553b3fea"
      },
      "source": [
        "pwd"
      ],
      "execution_count": null,
      "outputs": [
        {
          "output_type": "execute_result",
          "data": {
            "application/vnd.google.colaboratory.intrinsic+json": {
              "type": "string"
            },
            "text/plain": [
              "'/content'"
            ]
          },
          "metadata": {
            "tags": []
          },
          "execution_count": 9
        }
      ]
    },
    {
      "cell_type": "code",
      "metadata": {
        "colab": {
          "base_uri": "https://localhost:8080/"
        },
        "id": "9szex8ElegM5",
        "outputId": "b80874d0-5899-4e22-d74e-1d2ab812ae00"
      },
      "source": [
        "cd /content/drive/MyDrive/Colab Notebooks/Traffic/Traffic.ipynb\n"
      ],
      "execution_count": null,
      "outputs": [
        {
          "output_type": "stream",
          "text": [
            "[Errno 20] Not a directory: '/content/drive/MyDrive/Colab Notebooks/Traffic/Traffic.ipynb'\n",
            "/content\n"
          ],
          "name": "stdout"
        }
      ]
    },
    {
      "cell_type": "code",
      "metadata": {
        "colab": {
          "base_uri": "https://localhost:8080/"
        },
        "id": "EwlWchy2gS6L",
        "outputId": "366be6a2-5c21-434e-cec2-c25f52a12531"
      },
      "source": [
        "cd /content/drive/MyDrive/Colab Notebooks/Traffic"
      ],
      "execution_count": null,
      "outputs": [
        {
          "output_type": "stream",
          "text": [
            "/content/drive/MyDrive/Colab Notebooks/Traffic\n"
          ],
          "name": "stdout"
        }
      ]
    },
    {
      "cell_type": "code",
      "metadata": {
        "id": "ezbL2B5EgxVJ"
      },
      "source": [
        "\n",
        "data = \"./\"\n",
        "training_link = data+ \"train.p\"\n",
        "valid_link = data +\"valid.p\"\n",
        "test_link = data + \"test.p\""
      ],
      "execution_count": null,
      "outputs": []
    },
    {
      "cell_type": "code",
      "metadata": {
        "id": "m5HkT0LihByT"
      },
      "source": [
        "\n",
        "import pickle"
      ],
      "execution_count": null,
      "outputs": []
    },
    {
      "cell_type": "code",
      "metadata": {
        "id": "tOD_6l4bhEtJ"
      },
      "source": [
        "\n",
        "\n",
        "with open(training_link, mode = \"rb\" ) as f:\n",
        "    train = pickle.load(f)\n",
        "with open(valid_link, mode = \"rb\" ) as f:\n",
        "    valid = pickle.load(f)\n",
        "with open(test_link, mode = \"rb\" ) as f:\n",
        "    test = pickle.load(f)        "
      ],
      "execution_count": null,
      "outputs": []
    },
    {
      "cell_type": "code",
      "metadata": {
        "colab": {
          "base_uri": "https://localhost:8080/"
        },
        "id": "dbUuzj3ALC-8",
        "outputId": "f5cb9592-6767-4db0-94a5-3230edad6c48"
      },
      "source": [
        "train"
      ],
      "execution_count": null,
      "outputs": [
        {
          "output_type": "execute_result",
          "data": {
            "text/plain": [
              "{'coords': array([[  6,   5,  21,  20],\n",
              "        [  6,   6,  22,  22],\n",
              "        [  5,   6,  22,  23],\n",
              "        ...,\n",
              "        [ 17,  15, 178, 155],\n",
              "        [ 17,  15, 183, 160],\n",
              "        [ 20,  18, 211, 184]], dtype=uint8),\n",
              " 'features': array([[[[ 28,  25,  24],\n",
              "          [ 27,  24,  23],\n",
              "          [ 27,  24,  22],\n",
              "          ...,\n",
              "          [ 32,  28,  24],\n",
              "          [ 31,  27,  25],\n",
              "          [ 31,  27,  26]],\n",
              " \n",
              "         [[ 29,  26,  25],\n",
              "          [ 27,  25,  23],\n",
              "          [ 27,  25,  23],\n",
              "          ...,\n",
              "          [ 32,  28,  24],\n",
              "          [ 31,  27,  24],\n",
              "          [ 30,  27,  25]],\n",
              " \n",
              "         [[ 28,  26,  26],\n",
              "          [ 27,  25,  23],\n",
              "          [ 26,  25,  23],\n",
              "          ...,\n",
              "          [ 32,  28,  24],\n",
              "          [ 31,  27,  24],\n",
              "          [ 30,  27,  25]],\n",
              " \n",
              "         ...,\n",
              " \n",
              "         [[ 27,  24,  23],\n",
              "          [ 28,  25,  24],\n",
              "          [ 30,  25,  24],\n",
              "          ...,\n",
              "          [ 27,  24,  23],\n",
              "          [ 28,  24,  22],\n",
              "          [ 29,  25,  22]],\n",
              " \n",
              "         [[ 28,  23,  23],\n",
              "          [ 29,  24,  24],\n",
              "          [ 31,  25,  24],\n",
              "          ...,\n",
              "          [ 27,  24,  23],\n",
              "          [ 28,  24,  22],\n",
              "          [ 28,  24,  21]],\n",
              " \n",
              "         [[ 29,  23,  23],\n",
              "          [ 30,  24,  24],\n",
              "          [ 32,  24,  23],\n",
              "          ...,\n",
              "          [ 27,  24,  22],\n",
              "          [ 27,  23,  21],\n",
              "          [ 26,  22,  20]]],\n",
              " \n",
              " \n",
              "        [[[ 28,  24,  24],\n",
              "          [ 26,  23,  23],\n",
              "          [ 27,  24,  24],\n",
              "          ...,\n",
              "          [ 31,  28,  26],\n",
              "          [ 31,  28,  27],\n",
              "          [ 32,  28,  27]],\n",
              " \n",
              "         [[ 27,  24,  24],\n",
              "          [ 27,  24,  24],\n",
              "          [ 28,  25,  24],\n",
              "          ...,\n",
              "          [ 31,  27,  25],\n",
              "          [ 31,  27,  26],\n",
              "          [ 33,  29,  27]],\n",
              " \n",
              "         [[ 26,  24,  24],\n",
              "          [ 26,  24,  24],\n",
              "          [ 27,  24,  23],\n",
              "          ...,\n",
              "          [ 31,  26,  25],\n",
              "          [ 31,  27,  26],\n",
              "          [ 33,  29,  27]],\n",
              " \n",
              "         ...,\n",
              " \n",
              "         [[ 28,  25,  23],\n",
              "          [ 30,  27,  24],\n",
              "          [ 30,  27,  24],\n",
              "          ...,\n",
              "          [ 27,  24,  22],\n",
              "          [ 27,  24,  22],\n",
              "          [ 28,  24,  22]],\n",
              " \n",
              "         [[ 27,  24,  22],\n",
              "          [ 29,  26,  23],\n",
              "          [ 31,  26,  24],\n",
              "          ...,\n",
              "          [ 26,  23,  21],\n",
              "          [ 27,  24,  22],\n",
              "          [ 28,  25,  23]],\n",
              " \n",
              "         [[ 28,  24,  23],\n",
              "          [ 28,  24,  22],\n",
              "          [ 29,  24,  22],\n",
              "          ...,\n",
              "          [ 27,  23,  22],\n",
              "          [ 27,  24,  23],\n",
              "          [ 29,  26,  25]]],\n",
              " \n",
              " \n",
              "        [[[ 29,  25,  25],\n",
              "          [ 29,  26,  26],\n",
              "          [ 30,  27,  27],\n",
              "          ...,\n",
              "          [ 31,  27,  24],\n",
              "          [ 31,  28,  25],\n",
              "          [ 32,  29,  27]],\n",
              " \n",
              "         [[ 27,  24,  24],\n",
              "          [ 27,  25,  25],\n",
              "          [ 28,  26,  26],\n",
              "          ...,\n",
              "          [ 31,  27,  23],\n",
              "          [ 32,  28,  25],\n",
              "          [ 33,  30,  27]],\n",
              " \n",
              "         [[ 27,  24,  24],\n",
              "          [ 28,  26,  26],\n",
              "          [ 29,  27,  27],\n",
              "          ...,\n",
              "          [ 32,  28,  24],\n",
              "          [ 32,  28,  24],\n",
              "          [ 33,  29,  26]],\n",
              " \n",
              "         ...,\n",
              " \n",
              "         [[ 28,  26,  22],\n",
              "          [ 29,  26,  21],\n",
              "          [ 31,  26,  22],\n",
              "          ...,\n",
              "          [ 29,  24,  21],\n",
              "          [ 28,  23,  20],\n",
              "          [ 28,  23,  22]],\n",
              " \n",
              "         [[ 27,  26,  23],\n",
              "          [ 28,  25,  21],\n",
              "          [ 30,  25,  22],\n",
              "          ...,\n",
              "          [ 28,  23,  21],\n",
              "          [ 27,  22,  20],\n",
              "          [ 28,  24,  22]],\n",
              " \n",
              "         [[ 29,  26,  23],\n",
              "          [ 28,  24,  21],\n",
              "          [ 29,  24,  21],\n",
              "          ...,\n",
              "          [ 29,  25,  23],\n",
              "          [ 28,  24,  22],\n",
              "          [ 30,  26,  24]]],\n",
              " \n",
              " \n",
              "        ...,\n",
              " \n",
              " \n",
              "        [[[ 51,  67,  86],\n",
              "          [ 55,  59,  71],\n",
              "          [ 75,  81,  92],\n",
              "          ...,\n",
              "          [250, 248, 243],\n",
              "          [207, 212, 233],\n",
              "          [121, 116, 140]],\n",
              " \n",
              "         [[ 35,  42,  49],\n",
              "          [ 48,  47,  51],\n",
              "          [ 91,  96, 113],\n",
              "          ...,\n",
              "          [220, 224, 226],\n",
              "          [169, 177, 187],\n",
              "          [ 84,  87, 100]],\n",
              " \n",
              "         [[ 27,  26,  29],\n",
              "          [ 41,  38,  39],\n",
              "          [ 55,  64,  78],\n",
              "          ...,\n",
              "          [122, 143, 160],\n",
              "          [ 97, 104, 129],\n",
              "          [ 59,  59,  56]],\n",
              " \n",
              "         ...,\n",
              " \n",
              "         [[ 24,  23,  27],\n",
              "          [ 21,  20,  27],\n",
              "          [ 20,  19,  22],\n",
              "          ...,\n",
              "          [ 76,  79,  83],\n",
              "          [ 54,  64,  77],\n",
              "          [ 45,  51,  65]],\n",
              " \n",
              "         [[ 31,  31,  33],\n",
              "          [ 22,  23,  29],\n",
              "          [ 20,  18,  21],\n",
              "          ...,\n",
              "          [ 66,  67,  84],\n",
              "          [ 56,  65,  74],\n",
              "          [ 45,  55,  73]],\n",
              " \n",
              "         [[ 28,  28,  30],\n",
              "          [ 22,  21,  25],\n",
              "          [ 19,  18,  19],\n",
              "          ...,\n",
              "          [ 67,  63,  76],\n",
              "          [ 39,  45,  55],\n",
              "          [ 32,  37,  47]]],\n",
              " \n",
              " \n",
              "        [[[ 82,  78,  96],\n",
              "          [120, 126, 148],\n",
              "          [112, 125, 146],\n",
              "          ...,\n",
              "          [185, 182, 177],\n",
              "          [204, 210, 215],\n",
              "          [132, 114, 121]],\n",
              " \n",
              "         [[ 74,  77,  93],\n",
              "          [171, 174, 185],\n",
              "          [137, 164, 184],\n",
              "          ...,\n",
              "          [180, 181, 187],\n",
              "          [198, 200, 213],\n",
              "          [ 79,  85,  85]],\n",
              " \n",
              "         [[ 54,  50,  56],\n",
              "          [100, 106, 118],\n",
              "          [117, 132, 158],\n",
              "          ...,\n",
              "          [157, 153, 160],\n",
              "          [176, 183, 199],\n",
              "          [ 88,  80,  82]],\n",
              " \n",
              "         ...,\n",
              " \n",
              "         [[ 22,  21,  22],\n",
              "          [ 20,  19,  19],\n",
              "          [ 18,  16,  19],\n",
              "          ...,\n",
              "          [ 50,  50,  60],\n",
              "          [ 37,  43,  52],\n",
              "          [ 30,  41,  59]],\n",
              " \n",
              "         [[ 18,  16,  18],\n",
              "          [ 19,  17,  18],\n",
              "          [ 19,  18,  21],\n",
              "          ...,\n",
              "          [ 36,  44,  60],\n",
              "          [ 33,  36,  48],\n",
              "          [ 36,  43,  61]],\n",
              " \n",
              "         [[ 18,  17,  20],\n",
              "          [ 21,  20,  23],\n",
              "          [ 24,  22,  25],\n",
              "          ...,\n",
              "          [ 32,  34,  41],\n",
              "          [ 45,  42,  48],\n",
              "          [ 41,  43,  52]]],\n",
              " \n",
              " \n",
              "        [[[ 69,  79,  96],\n",
              "          [ 24,  26,  28],\n",
              "          [ 40,  42,  45],\n",
              "          ...,\n",
              "          [225, 234, 237],\n",
              "          [151, 161, 166],\n",
              "          [164, 162, 169]],\n",
              " \n",
              "         [[ 99, 110, 125],\n",
              "          [ 36,  41,  47],\n",
              "          [ 63,  56,  62],\n",
              "          ...,\n",
              "          [197, 216, 224],\n",
              "          [154, 163, 169],\n",
              "          [164, 163, 159]],\n",
              " \n",
              "         [[104, 107, 113],\n",
              "          [ 34,  37,  40],\n",
              "          [ 72,  70,  77],\n",
              "          ...,\n",
              "          [223, 237, 235],\n",
              "          [181, 192, 198],\n",
              "          [166, 167, 159]],\n",
              " \n",
              "         ...,\n",
              " \n",
              "         [[ 21,  20,  23],\n",
              "          [ 23,  24,  30],\n",
              "          [ 19,  20,  24],\n",
              "          ...,\n",
              "          [ 45,  47,  54],\n",
              "          [ 58,  62,  70],\n",
              "          [ 58,  70,  82]],\n",
              " \n",
              "         [[ 18,  17,  21],\n",
              "          [ 19,  19,  24],\n",
              "          [ 18,  18,  23],\n",
              "          ...,\n",
              "          [ 36,  36,  40],\n",
              "          [ 58,  59,  70],\n",
              "          [ 61,  69,  81]],\n",
              " \n",
              "         [[ 17,  16,  19],\n",
              "          [ 16,  15,  18],\n",
              "          [ 16,  15,  18],\n",
              "          ...,\n",
              "          [ 40,  40,  44],\n",
              "          [ 57,  62,  73],\n",
              "          [ 57,  68,  80]]]], dtype=uint8),\n",
              " 'labels': array([41, 41, 41, ..., 25, 25, 25], dtype=uint8),\n",
              " 'sizes': array([[ 26,  25],\n",
              "        [ 27,  27],\n",
              "        [ 27,  28],\n",
              "        ...,\n",
              "        [194, 169],\n",
              "        [201, 175],\n",
              "        [230, 201]], dtype=uint8)}"
            ]
          },
          "metadata": {
            "tags": []
          },
          "execution_count": 17
        }
      ]
    },
    {
      "cell_type": "code",
      "metadata": {
        "id": "E7pIWIKPhN5t"
      },
      "source": [
        "trainX = train[\"features\"]\n",
        "trainY = train[\"labels\"]\n",
        "\n",
        "validX = valid[\"features\"]\n",
        "validY = valid[\"labels\"]\n",
        "\n",
        "testX = test[\"features\"]\n",
        "testY = test[\"labels\"]"
      ],
      "execution_count": null,
      "outputs": []
    },
    {
      "cell_type": "code",
      "metadata": {
        "colab": {
          "base_uri": "https://localhost:8080/"
        },
        "id": "6SJfnfpriFz-",
        "outputId": "adc5da5d-030b-4d49-e2fa-e843fe98a2aa"
      },
      "source": [
        "trainX.shape"
      ],
      "execution_count": null,
      "outputs": [
        {
          "output_type": "execute_result",
          "data": {
            "text/plain": [
              "(34799, 32, 32, 3)"
            ]
          },
          "metadata": {
            "tags": []
          },
          "execution_count": 22
        }
      ]
    },
    {
      "cell_type": "code",
      "metadata": {
        "id": "QwGuTNiPiHlw"
      },
      "source": [
        "classNames = {0: 'Speed limit (20km/h)',\n",
        " 1: 'Speed limit (30km/h)',\n",
        " 2: 'Speed limit (50km/h)',\n",
        " 3: 'Speed limit (60km/h)',\n",
        " 4: 'Speed limit (70km/h)',\n",
        " 5: 'Speed limit (80km/h)',\n",
        " 6: 'End of speed limit (80km/h)',\n",
        " 7: 'Speed limit (100km/h)',\n",
        " 8: 'Speed limit (120km/h)',\n",
        " 9: 'No passing',\n",
        " 10: 'No passing for vehicles over 3.5 metric tons',\n",
        " 11: 'Right-of-way at the next intersection',\n",
        " 12: 'Priority road',\n",
        " 13: 'Yield',\n",
        " 14: 'Stop',\n",
        " 15: 'No vehicles',\n",
        " 16: 'Vehicles over 3.5 metric tons prohibited',\n",
        " 17: 'No entry',\n",
        " 18: 'General caution',\n",
        " 19: 'Dangerous curve to the left',\n",
        " 20: 'Dangerous curve to the right',\n",
        " 21: 'Double curve',\n",
        " 22: 'Bumpy road',\n",
        " 23: 'Slippery road',\n",
        " 24: 'Road narrows on the right',\n",
        " 25: 'Road work',\n",
        " 26: 'Traffic signals',\n",
        " 27: 'Pedestrians',\n",
        " 28: 'Children crossing',\n",
        " 29: 'Bicycles crossing',\n",
        " 30: 'Beware of ice/snow',\n",
        " 31: 'Wild animals crossing',\n",
        " 32: 'End of all speed and passing limits',\n",
        " 33: 'Turn right ahead',\n",
        " 34: 'Turn left ahead',\n",
        " 35: 'Ahead only',\n",
        " 36: 'Go straight or right',\n",
        " 37: 'Go straight or left',\n",
        " 38: 'Keep right',\n",
        " 39: 'Keep left',\n",
        " 40: 'Roundabout mandatory',\n",
        " 41: 'End of no passing',\n",
        " 42: 'End of no passing by vehicles over 3.5 metric tons'}"
      ],
      "execution_count": null,
      "outputs": []
    },
    {
      "cell_type": "code",
      "metadata": {
        "colab": {
          "base_uri": "https://localhost:8080/",
          "height": 35
        },
        "id": "jXroSX-viOOe",
        "outputId": "bd47041a-7e04-4dae-fb51-13fa84925b9f"
      },
      "source": [
        "classNames[trainY[50]]"
      ],
      "execution_count": null,
      "outputs": [
        {
          "output_type": "execute_result",
          "data": {
            "application/vnd.google.colaboratory.intrinsic+json": {
              "type": "string"
            },
            "text/plain": [
              "'End of no passing'"
            ]
          },
          "metadata": {
            "tags": []
          },
          "execution_count": 24
        }
      ]
    },
    {
      "cell_type": "code",
      "metadata": {
        "id": "WTuRKQ7kiT6b"
      },
      "source": [
        "trainX = trainX.astype(\"float\") / 255.0\n",
        "validX = validX.astype(\"float\") / 255.0\n",
        "testX = testX.astype(\"float\") / 255.0"
      ],
      "execution_count": null,
      "outputs": []
    },
    {
      "cell_type": "code",
      "metadata": {
        "colab": {
          "base_uri": "https://localhost:8080/"
        },
        "id": "CmEpsHFpipOK",
        "outputId": "0d71adc8-cab6-4b22-df61-d4b5c553c8bb"
      },
      "source": [
        "trainX"
      ],
      "execution_count": null,
      "outputs": [
        {
          "output_type": "execute_result",
          "data": {
            "text/plain": [
              "array([[[[0.10980392, 0.09803922, 0.09411765],\n",
              "         [0.10588235, 0.09411765, 0.09019608],\n",
              "         [0.10588235, 0.09411765, 0.08627451],\n",
              "         ...,\n",
              "         [0.1254902 , 0.10980392, 0.09411765],\n",
              "         [0.12156863, 0.10588235, 0.09803922],\n",
              "         [0.12156863, 0.10588235, 0.10196078]],\n",
              "\n",
              "        [[0.11372549, 0.10196078, 0.09803922],\n",
              "         [0.10588235, 0.09803922, 0.09019608],\n",
              "         [0.10588235, 0.09803922, 0.09019608],\n",
              "         ...,\n",
              "         [0.1254902 , 0.10980392, 0.09411765],\n",
              "         [0.12156863, 0.10588235, 0.09411765],\n",
              "         [0.11764706, 0.10588235, 0.09803922]],\n",
              "\n",
              "        [[0.10980392, 0.10196078, 0.10196078],\n",
              "         [0.10588235, 0.09803922, 0.09019608],\n",
              "         [0.10196078, 0.09803922, 0.09019608],\n",
              "         ...,\n",
              "         [0.1254902 , 0.10980392, 0.09411765],\n",
              "         [0.12156863, 0.10588235, 0.09411765],\n",
              "         [0.11764706, 0.10588235, 0.09803922]],\n",
              "\n",
              "        ...,\n",
              "\n",
              "        [[0.10588235, 0.09411765, 0.09019608],\n",
              "         [0.10980392, 0.09803922, 0.09411765],\n",
              "         [0.11764706, 0.09803922, 0.09411765],\n",
              "         ...,\n",
              "         [0.10588235, 0.09411765, 0.09019608],\n",
              "         [0.10980392, 0.09411765, 0.08627451],\n",
              "         [0.11372549, 0.09803922, 0.08627451]],\n",
              "\n",
              "        [[0.10980392, 0.09019608, 0.09019608],\n",
              "         [0.11372549, 0.09411765, 0.09411765],\n",
              "         [0.12156863, 0.09803922, 0.09411765],\n",
              "         ...,\n",
              "         [0.10588235, 0.09411765, 0.09019608],\n",
              "         [0.10980392, 0.09411765, 0.08627451],\n",
              "         [0.10980392, 0.09411765, 0.08235294]],\n",
              "\n",
              "        [[0.11372549, 0.09019608, 0.09019608],\n",
              "         [0.11764706, 0.09411765, 0.09411765],\n",
              "         [0.1254902 , 0.09411765, 0.09019608],\n",
              "         ...,\n",
              "         [0.10588235, 0.09411765, 0.08627451],\n",
              "         [0.10588235, 0.09019608, 0.08235294],\n",
              "         [0.10196078, 0.08627451, 0.07843137]]],\n",
              "\n",
              "\n",
              "       [[[0.10980392, 0.09411765, 0.09411765],\n",
              "         [0.10196078, 0.09019608, 0.09019608],\n",
              "         [0.10588235, 0.09411765, 0.09411765],\n",
              "         ...,\n",
              "         [0.12156863, 0.10980392, 0.10196078],\n",
              "         [0.12156863, 0.10980392, 0.10588235],\n",
              "         [0.1254902 , 0.10980392, 0.10588235]],\n",
              "\n",
              "        [[0.10588235, 0.09411765, 0.09411765],\n",
              "         [0.10588235, 0.09411765, 0.09411765],\n",
              "         [0.10980392, 0.09803922, 0.09411765],\n",
              "         ...,\n",
              "         [0.12156863, 0.10588235, 0.09803922],\n",
              "         [0.12156863, 0.10588235, 0.10196078],\n",
              "         [0.12941176, 0.11372549, 0.10588235]],\n",
              "\n",
              "        [[0.10196078, 0.09411765, 0.09411765],\n",
              "         [0.10196078, 0.09411765, 0.09411765],\n",
              "         [0.10588235, 0.09411765, 0.09019608],\n",
              "         ...,\n",
              "         [0.12156863, 0.10196078, 0.09803922],\n",
              "         [0.12156863, 0.10588235, 0.10196078],\n",
              "         [0.12941176, 0.11372549, 0.10588235]],\n",
              "\n",
              "        ...,\n",
              "\n",
              "        [[0.10980392, 0.09803922, 0.09019608],\n",
              "         [0.11764706, 0.10588235, 0.09411765],\n",
              "         [0.11764706, 0.10588235, 0.09411765],\n",
              "         ...,\n",
              "         [0.10588235, 0.09411765, 0.08627451],\n",
              "         [0.10588235, 0.09411765, 0.08627451],\n",
              "         [0.10980392, 0.09411765, 0.08627451]],\n",
              "\n",
              "        [[0.10588235, 0.09411765, 0.08627451],\n",
              "         [0.11372549, 0.10196078, 0.09019608],\n",
              "         [0.12156863, 0.10196078, 0.09411765],\n",
              "         ...,\n",
              "         [0.10196078, 0.09019608, 0.08235294],\n",
              "         [0.10588235, 0.09411765, 0.08627451],\n",
              "         [0.10980392, 0.09803922, 0.09019608]],\n",
              "\n",
              "        [[0.10980392, 0.09411765, 0.09019608],\n",
              "         [0.10980392, 0.09411765, 0.08627451],\n",
              "         [0.11372549, 0.09411765, 0.08627451],\n",
              "         ...,\n",
              "         [0.10588235, 0.09019608, 0.08627451],\n",
              "         [0.10588235, 0.09411765, 0.09019608],\n",
              "         [0.11372549, 0.10196078, 0.09803922]]],\n",
              "\n",
              "\n",
              "       [[[0.11372549, 0.09803922, 0.09803922],\n",
              "         [0.11372549, 0.10196078, 0.10196078],\n",
              "         [0.11764706, 0.10588235, 0.10588235],\n",
              "         ...,\n",
              "         [0.12156863, 0.10588235, 0.09411765],\n",
              "         [0.12156863, 0.10980392, 0.09803922],\n",
              "         [0.1254902 , 0.11372549, 0.10588235]],\n",
              "\n",
              "        [[0.10588235, 0.09411765, 0.09411765],\n",
              "         [0.10588235, 0.09803922, 0.09803922],\n",
              "         [0.10980392, 0.10196078, 0.10196078],\n",
              "         ...,\n",
              "         [0.12156863, 0.10588235, 0.09019608],\n",
              "         [0.1254902 , 0.10980392, 0.09803922],\n",
              "         [0.12941176, 0.11764706, 0.10588235]],\n",
              "\n",
              "        [[0.10588235, 0.09411765, 0.09411765],\n",
              "         [0.10980392, 0.10196078, 0.10196078],\n",
              "         [0.11372549, 0.10588235, 0.10588235],\n",
              "         ...,\n",
              "         [0.1254902 , 0.10980392, 0.09411765],\n",
              "         [0.1254902 , 0.10980392, 0.09411765],\n",
              "         [0.12941176, 0.11372549, 0.10196078]],\n",
              "\n",
              "        ...,\n",
              "\n",
              "        [[0.10980392, 0.10196078, 0.08627451],\n",
              "         [0.11372549, 0.10196078, 0.08235294],\n",
              "         [0.12156863, 0.10196078, 0.08627451],\n",
              "         ...,\n",
              "         [0.11372549, 0.09411765, 0.08235294],\n",
              "         [0.10980392, 0.09019608, 0.07843137],\n",
              "         [0.10980392, 0.09019608, 0.08627451]],\n",
              "\n",
              "        [[0.10588235, 0.10196078, 0.09019608],\n",
              "         [0.10980392, 0.09803922, 0.08235294],\n",
              "         [0.11764706, 0.09803922, 0.08627451],\n",
              "         ...,\n",
              "         [0.10980392, 0.09019608, 0.08235294],\n",
              "         [0.10588235, 0.08627451, 0.07843137],\n",
              "         [0.10980392, 0.09411765, 0.08627451]],\n",
              "\n",
              "        [[0.11372549, 0.10196078, 0.09019608],\n",
              "         [0.10980392, 0.09411765, 0.08235294],\n",
              "         [0.11372549, 0.09411765, 0.08235294],\n",
              "         ...,\n",
              "         [0.11372549, 0.09803922, 0.09019608],\n",
              "         [0.10980392, 0.09411765, 0.08627451],\n",
              "         [0.11764706, 0.10196078, 0.09411765]]],\n",
              "\n",
              "\n",
              "       ...,\n",
              "\n",
              "\n",
              "       [[[0.2       , 0.2627451 , 0.3372549 ],\n",
              "         [0.21568627, 0.23137255, 0.27843137],\n",
              "         [0.29411765, 0.31764706, 0.36078431],\n",
              "         ...,\n",
              "         [0.98039216, 0.97254902, 0.95294118],\n",
              "         [0.81176471, 0.83137255, 0.91372549],\n",
              "         [0.4745098 , 0.45490196, 0.54901961]],\n",
              "\n",
              "        [[0.1372549 , 0.16470588, 0.19215686],\n",
              "         [0.18823529, 0.18431373, 0.2       ],\n",
              "         [0.35686275, 0.37647059, 0.44313725],\n",
              "         ...,\n",
              "         [0.8627451 , 0.87843137, 0.88627451],\n",
              "         [0.6627451 , 0.69411765, 0.73333333],\n",
              "         [0.32941176, 0.34117647, 0.39215686]],\n",
              "\n",
              "        [[0.10588235, 0.10196078, 0.11372549],\n",
              "         [0.16078431, 0.14901961, 0.15294118],\n",
              "         [0.21568627, 0.25098039, 0.30588235],\n",
              "         ...,\n",
              "         [0.47843137, 0.56078431, 0.62745098],\n",
              "         [0.38039216, 0.40784314, 0.50588235],\n",
              "         [0.23137255, 0.23137255, 0.21960784]],\n",
              "\n",
              "        ...,\n",
              "\n",
              "        [[0.09411765, 0.09019608, 0.10588235],\n",
              "         [0.08235294, 0.07843137, 0.10588235],\n",
              "         [0.07843137, 0.0745098 , 0.08627451],\n",
              "         ...,\n",
              "         [0.29803922, 0.30980392, 0.3254902 ],\n",
              "         [0.21176471, 0.25098039, 0.30196078],\n",
              "         [0.17647059, 0.2       , 0.25490196]],\n",
              "\n",
              "        [[0.12156863, 0.12156863, 0.12941176],\n",
              "         [0.08627451, 0.09019608, 0.11372549],\n",
              "         [0.07843137, 0.07058824, 0.08235294],\n",
              "         ...,\n",
              "         [0.25882353, 0.2627451 , 0.32941176],\n",
              "         [0.21960784, 0.25490196, 0.29019608],\n",
              "         [0.17647059, 0.21568627, 0.28627451]],\n",
              "\n",
              "        [[0.10980392, 0.10980392, 0.11764706],\n",
              "         [0.08627451, 0.08235294, 0.09803922],\n",
              "         [0.0745098 , 0.07058824, 0.0745098 ],\n",
              "         ...,\n",
              "         [0.2627451 , 0.24705882, 0.29803922],\n",
              "         [0.15294118, 0.17647059, 0.21568627],\n",
              "         [0.1254902 , 0.14509804, 0.18431373]]],\n",
              "\n",
              "\n",
              "       [[[0.32156863, 0.30588235, 0.37647059],\n",
              "         [0.47058824, 0.49411765, 0.58039216],\n",
              "         [0.43921569, 0.49019608, 0.57254902],\n",
              "         ...,\n",
              "         [0.7254902 , 0.71372549, 0.69411765],\n",
              "         [0.8       , 0.82352941, 0.84313725],\n",
              "         [0.51764706, 0.44705882, 0.4745098 ]],\n",
              "\n",
              "        [[0.29019608, 0.30196078, 0.36470588],\n",
              "         [0.67058824, 0.68235294, 0.7254902 ],\n",
              "         [0.5372549 , 0.64313725, 0.72156863],\n",
              "         ...,\n",
              "         [0.70588235, 0.70980392, 0.73333333],\n",
              "         [0.77647059, 0.78431373, 0.83529412],\n",
              "         [0.30980392, 0.33333333, 0.33333333]],\n",
              "\n",
              "        [[0.21176471, 0.19607843, 0.21960784],\n",
              "         [0.39215686, 0.41568627, 0.4627451 ],\n",
              "         [0.45882353, 0.51764706, 0.61960784],\n",
              "         ...,\n",
              "         [0.61568627, 0.6       , 0.62745098],\n",
              "         [0.69019608, 0.71764706, 0.78039216],\n",
              "         [0.34509804, 0.31372549, 0.32156863]],\n",
              "\n",
              "        ...,\n",
              "\n",
              "        [[0.08627451, 0.08235294, 0.08627451],\n",
              "         [0.07843137, 0.0745098 , 0.0745098 ],\n",
              "         [0.07058824, 0.0627451 , 0.0745098 ],\n",
              "         ...,\n",
              "         [0.19607843, 0.19607843, 0.23529412],\n",
              "         [0.14509804, 0.16862745, 0.20392157],\n",
              "         [0.11764706, 0.16078431, 0.23137255]],\n",
              "\n",
              "        [[0.07058824, 0.0627451 , 0.07058824],\n",
              "         [0.0745098 , 0.06666667, 0.07058824],\n",
              "         [0.0745098 , 0.07058824, 0.08235294],\n",
              "         ...,\n",
              "         [0.14117647, 0.17254902, 0.23529412],\n",
              "         [0.12941176, 0.14117647, 0.18823529],\n",
              "         [0.14117647, 0.16862745, 0.23921569]],\n",
              "\n",
              "        [[0.07058824, 0.06666667, 0.07843137],\n",
              "         [0.08235294, 0.07843137, 0.09019608],\n",
              "         [0.09411765, 0.08627451, 0.09803922],\n",
              "         ...,\n",
              "         [0.1254902 , 0.13333333, 0.16078431],\n",
              "         [0.17647059, 0.16470588, 0.18823529],\n",
              "         [0.16078431, 0.16862745, 0.20392157]]],\n",
              "\n",
              "\n",
              "       [[[0.27058824, 0.30980392, 0.37647059],\n",
              "         [0.09411765, 0.10196078, 0.10980392],\n",
              "         [0.15686275, 0.16470588, 0.17647059],\n",
              "         ...,\n",
              "         [0.88235294, 0.91764706, 0.92941176],\n",
              "         [0.59215686, 0.63137255, 0.65098039],\n",
              "         [0.64313725, 0.63529412, 0.6627451 ]],\n",
              "\n",
              "        [[0.38823529, 0.43137255, 0.49019608],\n",
              "         [0.14117647, 0.16078431, 0.18431373],\n",
              "         [0.24705882, 0.21960784, 0.24313725],\n",
              "         ...,\n",
              "         [0.77254902, 0.84705882, 0.87843137],\n",
              "         [0.60392157, 0.63921569, 0.6627451 ],\n",
              "         [0.64313725, 0.63921569, 0.62352941]],\n",
              "\n",
              "        [[0.40784314, 0.41960784, 0.44313725],\n",
              "         [0.13333333, 0.14509804, 0.15686275],\n",
              "         [0.28235294, 0.2745098 , 0.30196078],\n",
              "         ...,\n",
              "         [0.8745098 , 0.92941176, 0.92156863],\n",
              "         [0.70980392, 0.75294118, 0.77647059],\n",
              "         [0.65098039, 0.65490196, 0.62352941]],\n",
              "\n",
              "        ...,\n",
              "\n",
              "        [[0.08235294, 0.07843137, 0.09019608],\n",
              "         [0.09019608, 0.09411765, 0.11764706],\n",
              "         [0.0745098 , 0.07843137, 0.09411765],\n",
              "         ...,\n",
              "         [0.17647059, 0.18431373, 0.21176471],\n",
              "         [0.22745098, 0.24313725, 0.2745098 ],\n",
              "         [0.22745098, 0.2745098 , 0.32156863]],\n",
              "\n",
              "        [[0.07058824, 0.06666667, 0.08235294],\n",
              "         [0.0745098 , 0.0745098 , 0.09411765],\n",
              "         [0.07058824, 0.07058824, 0.09019608],\n",
              "         ...,\n",
              "         [0.14117647, 0.14117647, 0.15686275],\n",
              "         [0.22745098, 0.23137255, 0.2745098 ],\n",
              "         [0.23921569, 0.27058824, 0.31764706]],\n",
              "\n",
              "        [[0.06666667, 0.0627451 , 0.0745098 ],\n",
              "         [0.0627451 , 0.05882353, 0.07058824],\n",
              "         [0.0627451 , 0.05882353, 0.07058824],\n",
              "         ...,\n",
              "         [0.15686275, 0.15686275, 0.17254902],\n",
              "         [0.22352941, 0.24313725, 0.28627451],\n",
              "         [0.22352941, 0.26666667, 0.31372549]]]])"
            ]
          },
          "metadata": {
            "tags": []
          },
          "execution_count": 26
        }
      ]
    },
    {
      "cell_type": "code",
      "metadata": {
        "id": "G3Is2nf6iq8s"
      },
      "source": [
        "from sklearn.preprocessing import  LabelBinarizer\n",
        "lb = LabelBinarizer()"
      ],
      "execution_count": null,
      "outputs": []
    },
    {
      "cell_type": "code",
      "metadata": {
        "id": "ZYbO1Otjj5Dc"
      },
      "source": [
        "trainY = lb.fit_transform(trainY)"
      ],
      "execution_count": null,
      "outputs": []
    },
    {
      "cell_type": "code",
      "metadata": {
        "id": "ATo9Pzuaj-NX"
      },
      "source": [
        "validY = lb.fit_transform(validY)"
      ],
      "execution_count": null,
      "outputs": []
    },
    {
      "cell_type": "code",
      "metadata": {
        "id": "Za4QhaaEkDGk"
      },
      "source": [
        "from tensorflow.keras.models import Model\n",
        "from tensorflow.keras.models import Sequential\n",
        "from tensorflow.keras.layers import BatchNormalization\n",
        "from tensorflow.keras.layers import AveragePooling2D\n",
        "from tensorflow.keras.layers import MaxPooling2D\n",
        "from tensorflow.keras.layers import Conv2D\n",
        "from tensorflow.keras.layers import Activation\n",
        "from tensorflow.keras.layers import Dropout\n",
        "from tensorflow.keras.layers import Flatten\n",
        "from tensorflow.keras.layers import Input\n",
        "from tensorflow.keras.layers import Dense\n",
        "from tensorflow.keras.layers import concatenate\n",
        "from tensorflow.keras.preprocessing.image import ImageDataGenerator\n",
        "from tensorflow.keras.optimizers import SGD"
      ],
      "execution_count": null,
      "outputs": []
    },
    {
      "cell_type": "code",
      "metadata": {
        "id": "T1S86A5UkWBJ"
      },
      "source": [
        "model = Sequential()"
      ],
      "execution_count": null,
      "outputs": []
    },
    {
      "cell_type": "code",
      "metadata": {
        "id": "vH06MIP3kYHU"
      },
      "source": [
        "width = 32\n",
        "height = 32\n",
        "classes = 43"
      ],
      "execution_count": null,
      "outputs": []
    },
    {
      "cell_type": "code",
      "metadata": {
        "id": "03ZAcOSlkZXW"
      },
      "source": [
        "shape = (width, height, 3)"
      ],
      "execution_count": null,
      "outputs": []
    },
    {
      "cell_type": "code",
      "metadata": {
        "id": "r6LTnJNZkanw"
      },
      "source": [
        "model.add(Conv2D(32, (3, 3), padding=\"same\", input_shape=shape))"
      ],
      "execution_count": null,
      "outputs": []
    },
    {
      "cell_type": "code",
      "metadata": {
        "id": "NjVKXq8XkcEk"
      },
      "source": [
        "model.add(Activation(\"relu\"))"
      ],
      "execution_count": null,
      "outputs": []
    },
    {
      "cell_type": "code",
      "metadata": {
        "id": "paWF3k2RkdR4"
      },
      "source": [
        "model.add(BatchNormalization())\n",
        "model.add(Conv2D(32, (3, 3), padding=\"same\"))\n",
        "model.add(Activation(\"relu\"))\n",
        "model.add(BatchNormalization())\n",
        "model.add(MaxPooling2D(pool_size=(2,2)))\n",
        "\n",
        "model.add(Conv2D(64, (3, 3), padding=\"same\"))\n",
        "model.add(Activation(\"relu\"))\n",
        "model.add(BatchNormalization())\n",
        "model.add(Conv2D(64, (3, 3), padding=\"same\"))\n",
        "model.add(Activation(\"relu\"))\n",
        "model.add(BatchNormalization())\n",
        "model.add(MaxPooling2D(pool_size=(2,2)))\n",
        "model.add(Flatten())\n",
        "model.add(Dense(512))\n",
        "model.add(Activation(\"relu\"))\n",
        "model.add(BatchNormalization())\n",
        "model.add(Dense(classes))\n",
        "model.add(Activation(\"softmax\"))\n"
      ],
      "execution_count": null,
      "outputs": []
    },
    {
      "cell_type": "code",
      "metadata": {
        "colab": {
          "base_uri": "https://localhost:8080/"
        },
        "id": "jpWELa97k8IH",
        "outputId": "dc9c9720-cebf-4ffd-f340-1c22674fa990"
      },
      "source": [
        "model.summary()"
      ],
      "execution_count": null,
      "outputs": [
        {
          "output_type": "stream",
          "text": [
            "Model: \"sequential\"\n",
            "_________________________________________________________________\n",
            "Layer (type)                 Output Shape              Param #   \n",
            "=================================================================\n",
            "conv2d (Conv2D)              (None, 32, 32, 32)        896       \n",
            "_________________________________________________________________\n",
            "activation (Activation)      (None, 32, 32, 32)        0         \n",
            "_________________________________________________________________\n",
            "batch_normalization (BatchNo (None, 32, 32, 32)        128       \n",
            "_________________________________________________________________\n",
            "conv2d_1 (Conv2D)            (None, 32, 32, 32)        9248      \n",
            "_________________________________________________________________\n",
            "activation_1 (Activation)    (None, 32, 32, 32)        0         \n",
            "_________________________________________________________________\n",
            "batch_normalization_1 (Batch (None, 32, 32, 32)        128       \n",
            "_________________________________________________________________\n",
            "max_pooling2d (MaxPooling2D) (None, 16, 16, 32)        0         \n",
            "_________________________________________________________________\n",
            "conv2d_2 (Conv2D)            (None, 16, 16, 64)        18496     \n",
            "_________________________________________________________________\n",
            "activation_2 (Activation)    (None, 16, 16, 64)        0         \n",
            "_________________________________________________________________\n",
            "batch_normalization_2 (Batch (None, 16, 16, 64)        256       \n",
            "_________________________________________________________________\n",
            "conv2d_3 (Conv2D)            (None, 16, 16, 64)        36928     \n",
            "_________________________________________________________________\n",
            "activation_3 (Activation)    (None, 16, 16, 64)        0         \n",
            "_________________________________________________________________\n",
            "batch_normalization_3 (Batch (None, 16, 16, 64)        256       \n",
            "_________________________________________________________________\n",
            "max_pooling2d_1 (MaxPooling2 (None, 8, 8, 64)          0         \n",
            "_________________________________________________________________\n",
            "flatten (Flatten)            (None, 4096)              0         \n",
            "_________________________________________________________________\n",
            "dense (Dense)                (None, 512)               2097664   \n",
            "_________________________________________________________________\n",
            "activation_4 (Activation)    (None, 512)               0         \n",
            "_________________________________________________________________\n",
            "batch_normalization_4 (Batch (None, 512)               2048      \n",
            "_________________________________________________________________\n",
            "dense_1 (Dense)              (None, 43)                22059     \n",
            "_________________________________________________________________\n",
            "activation_5 (Activation)    (None, 43)                0         \n",
            "=================================================================\n",
            "Total params: 2,188,107\n",
            "Trainable params: 2,186,699\n",
            "Non-trainable params: 1,408\n",
            "_________________________________________________________________\n"
          ],
          "name": "stdout"
        }
      ]
    },
    {
      "cell_type": "code",
      "metadata": {
        "id": "R9tFXVSDk-fX"
      },
      "source": [
        "aug = ImageDataGenerator(rotation_range=0.18, zoom_range=0.15, width_shift_range=0.2, height_shift_range=0.2, horizontal_flip=True)"
      ],
      "execution_count": null,
      "outputs": []
    },
    {
      "cell_type": "code",
      "metadata": {
        "id": "4B1UqlGilBrt"
      },
      "source": [
        "learning_rate = 0.1 "
      ],
      "execution_count": null,
      "outputs": []
    },
    {
      "cell_type": "code",
      "metadata": {
        "id": "GSYq6kCZlEA6"
      },
      "source": [
        "epochs = 10\n",
        "batch_size = 64"
      ],
      "execution_count": null,
      "outputs": []
    },
    {
      "cell_type": "code",
      "metadata": {
        "id": "_kF9PCMblIiV"
      },
      "source": [
        "opt = SGD(learning_rate=learning_rate, momentum=0.9)\n"
      ],
      "execution_count": null,
      "outputs": []
    },
    {
      "cell_type": "code",
      "metadata": {
        "id": "10fT3rgXlPzm"
      },
      "source": [
        "model.compile(optimizer=opt, loss=\"categorical_crossentropy\", metrics=[\"accuracy\"])"
      ],
      "execution_count": null,
      "outputs": []
    },
    {
      "cell_type": "code",
      "metadata": {
        "colab": {
          "base_uri": "https://localhost:8080/"
        },
        "id": "xWSyp8_RloJU",
        "outputId": "92a4908f-89a7-4d2e-e625-fab8b0e95cda"
      },
      "source": [
        "print(\"Start training\")\n",
        "H = model.fit_generator(aug.flow(trainX, trainY, batch_size=batch_size), validation_data=(validX, validY), steps_per_epoch=trainX.shape[0]//batch_size, epochs=epochs, verbose=1)"
      ],
      "execution_count": null,
      "outputs": [
        {
          "output_type": "stream",
          "text": [
            "Start training\n",
            "Epoch 1/10\n",
            "543/543 [==============================] - 45s 83ms/step - loss: 2.9838 - accuracy: 0.2244 - val_loss: 7.5117 - val_accuracy: 0.0628\n",
            "Epoch 2/10\n",
            "543/543 [==============================] - 44s 82ms/step - loss: 1.7381 - accuracy: 0.4517 - val_loss: 2.0626 - val_accuracy: 0.4288\n",
            "Epoch 3/10\n",
            "543/543 [==============================] - 44s 82ms/step - loss: 1.1291 - accuracy: 0.6199 - val_loss: 1.4848 - val_accuracy: 0.5694\n",
            "Epoch 4/10\n",
            "543/543 [==============================] - 45s 82ms/step - loss: 0.7332 - accuracy: 0.7484 - val_loss: 1.3064 - val_accuracy: 0.6429\n",
            "Epoch 5/10\n",
            "543/543 [==============================] - 44s 82ms/step - loss: 0.5139 - accuracy: 0.8260 - val_loss: 1.2255 - val_accuracy: 0.7063\n",
            "Epoch 6/10\n",
            "543/543 [==============================] - 44s 82ms/step - loss: 0.3693 - accuracy: 0.8759 - val_loss: 1.1759 - val_accuracy: 0.7122\n",
            "Epoch 7/10\n",
            "543/543 [==============================] - 45s 82ms/step - loss: 0.2672 - accuracy: 0.9097 - val_loss: 1.1865 - val_accuracy: 0.7839\n",
            "Epoch 8/10\n",
            "543/543 [==============================] - 45s 83ms/step - loss: 0.2120 - accuracy: 0.9285 - val_loss: 0.9950 - val_accuracy: 0.7760\n",
            "Epoch 9/10\n",
            "543/543 [==============================] - 44s 81ms/step - loss: 0.1710 - accuracy: 0.9425 - val_loss: 0.7019 - val_accuracy: 0.8302\n",
            "Epoch 10/10\n",
            "543/543 [==============================] - 44s 81ms/step - loss: 0.1420 - accuracy: 0.9524 - val_loss: 0.6880 - val_accuracy: 0.8560\n"
          ],
          "name": "stdout"
        }
      ]
    },
    {
      "cell_type": "code",
      "metadata": {
        "id": "iqH_8gbolscS"
      },
      "source": [
        "model.save(\"traffic.h5\")"
      ],
      "execution_count": null,
      "outputs": []
    },
    {
      "cell_type": "code",
      "metadata": {
        "id": "Qpqr4_KyomNH"
      },
      "source": [
        "saved_model = tf.keras.models.load_model(\"traffic.h5\")\n",
        "result = saved_model.predict(testX[80:81])"
      ],
      "execution_count": null,
      "outputs": []
    },
    {
      "cell_type": "code",
      "metadata": {
        "colab": {
          "base_uri": "https://localhost:8080/"
        },
        "id": "sGil8J-Oo_JK",
        "outputId": "643cc577-628c-434b-ca12-e6e984fb8ede"
      },
      "source": [
        "result"
      ],
      "execution_count": null,
      "outputs": [
        {
          "output_type": "execute_result",
          "data": {
            "text/plain": [
              "array([[3.1823010e-08, 3.9570699e-12, 4.1821341e-10, 1.2346980e-17,\n",
              "        7.9452125e-11, 2.0467313e-12, 1.4166337e-13, 6.6948705e-14,\n",
              "        1.9903289e-11, 1.0541157e-08, 1.1035940e-08, 8.8689558e-05,\n",
              "        1.3201343e-15, 3.5836681e-15, 1.9642428e-11, 4.2400433e-14,\n",
              "        8.2688949e-09, 2.2983023e-08, 5.1121611e-07, 1.3125166e-02,\n",
              "        3.5645269e-05, 7.5892264e-01, 3.3790045e-08, 6.7799841e-03,\n",
              "        1.5839349e-07, 2.4912886e-08, 9.5820988e-06, 2.2024785e-01,\n",
              "        1.3987958e-06, 3.4014491e-08, 6.6024013e-06, 5.0745434e-06,\n",
              "        1.1247052e-13, 2.7560949e-09, 7.1313129e-11, 9.8255519e-09,\n",
              "        3.5399773e-12, 9.1635016e-08, 7.5481366e-04, 2.1478414e-05,\n",
              "        8.3256948e-09, 9.9012968e-12, 1.3143257e-11]], dtype=float32)"
            ]
          },
          "metadata": {
            "tags": []
          },
          "execution_count": 62
        }
      ]
    },
    {
      "cell_type": "code",
      "metadata": {
        "id": "__gEKl5FrnmJ"
      },
      "source": [
        "import numpy as np\n"
      ],
      "execution_count": null,
      "outputs": []
    },
    {
      "cell_type": "code",
      "metadata": {
        "id": "IT1EB-qOrwih"
      },
      "source": [
        "#timf ra cho co xac suat lon nhat \n",
        "final = np.argmax(result)"
      ],
      "execution_count": null,
      "outputs": []
    },
    {
      "cell_type": "code",
      "metadata": {
        "id": "3WhiKIWkr4-y"
      },
      "source": [
        "#mapping den class\n",
        "\n",
        "final = classNames[final]"
      ],
      "execution_count": null,
      "outputs": []
    },
    {
      "cell_type": "code",
      "metadata": {
        "colab": {
          "base_uri": "https://localhost:8080/",
          "height": 35
        },
        "id": "a_rAlrOVr_7v",
        "outputId": "55ee6f8e-e33b-4a2a-bd39-55881ed34315"
      },
      "source": [
        "final"
      ],
      "execution_count": null,
      "outputs": [
        {
          "output_type": "execute_result",
          "data": {
            "application/vnd.google.colaboratory.intrinsic+json": {
              "type": "string"
            },
            "text/plain": [
              "'Double curve'"
            ]
          },
          "metadata": {
            "tags": []
          },
          "execution_count": 66
        }
      ]
    },
    {
      "cell_type": "code",
      "metadata": {
        "colab": {
          "base_uri": "https://localhost:8080/",
          "height": 284
        },
        "id": "NRqrpPQtsBNQ",
        "outputId": "642953a5-2eb7-4957-bc71-937f37ae9083"
      },
      "source": [
        "import matplotlib.pyplot as plt\n",
        "\n",
        "plt.imshow(test[\"features\"][80])"
      ],
      "execution_count": null,
      "outputs": [
        {
          "output_type": "execute_result",
          "data": {
            "text/plain": [
              "<matplotlib.image.AxesImage at 0x7f7265067490>"
            ]
          },
          "metadata": {
            "tags": []
          },
          "execution_count": 67
        },
        {
          "output_type": "display_data",
          "data": {
            "image/png": "[encoded data removed]",
            "text/plain": [
              "<Figure size 432x288 with 1 Axes>"
            ]
          },
          "metadata": {
            "tags": [],
            "needs_background": "light"
          }
        }
      ]
    },
    {
      "cell_type": "code",
      "metadata": {
        "id": "1WhCpi1ssKPP"
      },
      "source": [
        ""
      ],
      "execution_count": null,
      "outputs": []
    },
    {
      "cell_type": "markdown",
      "metadata": {
        "id": "HN7e78P2_wgk"
      },
      "source": [
        "# New Section"
      ]
    },
    {
      "cell_type": "code",
      "metadata": {
        "id": "fpN5XFXK_yOS"
      },
      "source": [
        "from google.colab import drive\n",
        "drive.mount('/content/drive')"
      ],
      "execution_count": null,
      "outputs": []
    }
  ]
}